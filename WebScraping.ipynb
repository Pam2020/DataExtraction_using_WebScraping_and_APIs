{
  "nbformat": 4,
  "nbformat_minor": 0,
  "metadata": {
    "colab": {
      "provenance": [],
      "authorship_tag": "ABX9TyNDF/rrop3SAHllUO8vea+W",
      "include_colab_link": true
    },
    "kernelspec": {
      "name": "python3",
      "display_name": "Python 3"
    },
    "language_info": {
      "name": "python"
    }
  },
  "cells": [
    {
      "cell_type": "markdown",
      "metadata": {
        "id": "view-in-github",
        "colab_type": "text"
      },
      "source": [
        "<a href=\"https://colab.research.google.com/github/Pam2020/DataExtraction_using_WebScraping_and_APIs/blob/main/WebScraping.ipynb\" target=\"_parent\"><img src=\"https://colab.research.google.com/assets/colab-badge.svg\" alt=\"Open In Colab\"/></a>"
      ]
    },
    {
      "cell_type": "markdown",
      "source": [
        "## Web Scraping\n",
        "\n",
        "In this project, we will perform web scarping and get data from the amazon website into a dataframe.\n",
        "\n",
        "The steps involved would be:\n",
        "1. Using the python requests library to send a get request (HTTP protocol) to amazon and retrieve the html code.\n",
        "2. Use the beautiful soup library to parse the html code.\n",
        "3. Create a dataframe object and extract data into it.\n",
        "\n",
        "References:\n",
        "\n",
        "1. https://www.youtube.com/watch?v=2hPCX-p_X8Q&ab_channel=DarshilParmar\n",
        "2. https://www.youtube.com/watch?v=tb8gHvYlCFs&ab_channel=CoreySchafer\n",
        "3. https://www.youtube.com/watch?v=ng2o98k983k&ab_channel=CoreySchafer\n",
        "\n",
        "\n",
        "Let's get started!"
      ],
      "metadata": {
        "id": "w9fAXQ7kwjHB"
      }
    },
    {
      "cell_type": "code",
      "source": [
        "from bs4 import BeautifulSoup\n",
        "import requests\n",
        "import pandas as pd"
      ],
      "metadata": {
        "id": "BGOhDejywhmC"
      },
      "execution_count": 70,
      "outputs": []
    },
    {
      "cell_type": "code",
      "source": [
        "!pip install fake-useragent"
      ],
      "metadata": {
        "colab": {
          "base_uri": "https://localhost:8080/"
        },
        "id": "ERezuSZL4bWr",
        "outputId": "920fa187-444d-49bf-8939-fe9ef495ee8a"
      },
      "execution_count": 50,
      "outputs": [
        {
          "output_type": "stream",
          "name": "stdout",
          "text": [
            "Collecting fake-useragent\n",
            "  Downloading fake_useragent-1.5.1-py3-none-any.whl.metadata (15 kB)\n",
            "Downloading fake_useragent-1.5.1-py3-none-any.whl (17 kB)\n",
            "Installing collected packages: fake-useragent\n",
            "Successfully installed fake-useragent-1.5.1\n"
          ]
        }
      ]
    },
    {
      "cell_type": "code",
      "source": [
        "from fake_useragent import UserAgent\n",
        "ua = UserAgent()\n",
        "\n",
        "# Get a random browser user-agent string\n",
        "print(ua.random)"
      ],
      "metadata": {
        "colab": {
          "base_uri": "https://localhost:8080/"
        },
        "id": "b1bRd9VK4eeJ",
        "outputId": "46233d7d-9e42-4dbe-c401-aaf2144adef9"
      },
      "execution_count": 51,
      "outputs": [
        {
          "output_type": "stream",
          "name": "stdout",
          "text": [
            "Mozilla/5.0 (Windows NT 10.0; Win64; x64) AppleWebKit/537.36 (KHTML, like Gecko) Chrome/122.0.0.0 Safari/537.36\n"
          ]
        }
      ]
    },
    {
      "cell_type": "code",
      "source": [
        "# url from where we will be scraping data\n",
        "\n",
        "url = \"https://www.amazon.com/s?k=data+engineering+books\""
      ],
      "metadata": {
        "id": "_V5sqriuyXuY"
      },
      "execution_count": 52,
      "outputs": []
    },
    {
      "cell_type": "code",
      "source": [
        "\"\"\"We will send http request to the above webpage. To do this we need to define the HTTP headers.\n",
        "  Inside the header, one of the most important factor is user-agent.\n",
        "\"\"\"\n",
        "\n",
        "# Headers\n",
        "HEADERS = ({'User-Agent': ua.random, 'Accept-Language':'en-US, en;q=0.5'})"
      ],
      "metadata": {
        "id": "q4sAVPD8yfi3"
      },
      "execution_count": 53,
      "outputs": []
    },
    {
      "cell_type": "code",
      "source": [
        "webpage = requests.get(url, headers=HEADERS)"
      ],
      "metadata": {
        "id": "OPeHmmlXpXJD"
      },
      "execution_count": 54,
      "outputs": []
    },
    {
      "cell_type": "code",
      "source": [
        "webpage"
      ],
      "metadata": {
        "colab": {
          "base_uri": "https://localhost:8080/"
        },
        "id": "ZjrQIhk-pjyI",
        "outputId": "a4573fc8-5601-4e6e-d9ba-3049ddf2712b"
      },
      "execution_count": 55,
      "outputs": [
        {
          "output_type": "execute_result",
          "data": {
            "text/plain": [
              "<Response [200]>"
            ]
          },
          "metadata": {},
          "execution_count": 55
        }
      ]
    },
    {
      "cell_type": "code",
      "source": [
        "# the response content is in the form of bytes\n",
        "# to convert this into html format, we use the beatiful soup library\n",
        "type(webpage.content)"
      ],
      "metadata": {
        "colab": {
          "base_uri": "https://localhost:8080/"
        },
        "id": "MlNVGl4PplNQ",
        "outputId": "9f579f9f-9760-4c5e-c355-31d567630917"
      },
      "execution_count": 56,
      "outputs": [
        {
          "output_type": "execute_result",
          "data": {
            "text/plain": [
              "bytes"
            ]
          },
          "metadata": {},
          "execution_count": 56
        }
      ]
    },
    {
      "cell_type": "code",
      "source": [
        "# Soup Object containing all data\n",
        "soup = BeautifulSoup(webpage.content, \"html.parser\")\n"
      ],
      "metadata": {
        "id": "QP6dM_RypyQ8"
      },
      "execution_count": 57,
      "outputs": []
    },
    {
      "cell_type": "code",
      "source": [
        "books = []\n",
        "seen_titles = set()  # To keep track of seen titles\n",
        "\n",
        "page = 1"
      ],
      "metadata": {
        "id": "FbiOxsR8y6HL"
      },
      "execution_count": 92,
      "outputs": []
    },
    {
      "cell_type": "code",
      "source": [
        "\n",
        "\n",
        "# Find book containers (you may need to adjust the class names based on the actual HTML structure)\n",
        "book_containers = soup.find_all(\"div\", {\"class\": \"sg-col-4-of-24 sg-col-4-of-12 s-result-item s-asin sg-col-4-of-16 sg-col s-widget-spacing-small sg-col-4-of-20 gsx-ies-anchor\"})\n",
        "\n",
        "\n",
        "# Loop through the book containers and extract data\n",
        "for book in book_containers:\n",
        "  title = book.find(\"span\", {\"class\": \"a-size-base-plus a-color-base a-text-normal\"})\n",
        "  authors = book.find_all(\"a\", {\"class\":\"a-size-base\"})\n",
        "  price = book.find(\"span\", {\"class\": \"a-price-whole\"})\n",
        "  rating = book.find(\"span\", {\"class\": \"a-icon-alt\"})\n",
        "#\"a-size-base a-link-normal s-underline-text s-underline-link-text s-link-style\"\n",
        "  if title and authors and price and rating:\n",
        "    book_title = title.text.strip()\n",
        "\n",
        "\n",
        "    # Check if title has been seen before\n",
        "    if book_title not in seen_titles:\n",
        "      seen_titles.add(book_title)\n",
        "      author_names = [author.text.strip() for author in authors if author.text.strip()]\n",
        "      if author_names:\n",
        "        book_authors = \", \".join(author_names)\n",
        "      else:\n",
        "         \"Unknown\"\n",
        "\n",
        "      books.append({\n",
        "          \"Title\": book_title,\n",
        "          \"Authors\": book_authors,\n",
        "          \"Price\": price.text.strip(),\n",
        "          \"Rating\": rating.text.strip(),\n",
        "          })\n",
        "    # Increment the page number for the next iteration\n",
        "    #page += 1\n"
      ],
      "metadata": {
        "id": "qr65hpA3uu3q"
      },
      "execution_count": 93,
      "outputs": []
    },
    {
      "cell_type": "code",
      "source": [
        "# Limit to the requested number of books\n",
        "#books = books[:num_books]\n",
        "\n",
        "pd.set_option('display.max_colwidth', None)\n",
        "# Convert the list of dictionaries into a DataFrame\n",
        "df = pd.DataFrame(books)\n",
        "\n",
        "# Remove duplicates based on 'Title' column\n",
        "df.drop_duplicates(subset=\"Title\", inplace=True)"
      ],
      "metadata": {
        "id": "dhXYA5Rs2C1M"
      },
      "execution_count": 94,
      "outputs": []
    },
    {
      "cell_type": "code",
      "source": [
        "df.head()"
      ],
      "metadata": {
        "colab": {
          "base_uri": "https://localhost:8080/",
          "height": 293
        },
        "id": "-vMLsKcE5FnC",
        "outputId": "a7b9cf38-f852-4af0-f980-3f542a078cc9"
      },
      "execution_count": 95,
      "outputs": [
        {
          "output_type": "execute_result",
          "data": {
            "text/plain": [
              "                                                                                                                                   Title  \\\n",
              "0                                                                   Fundamentals of Data Engineering: Plan and Build Robust Data Systems   \n",
              "1                               Designing Data-Intensive Applications: The Big Ideas Behind Reliable, Scalable, and Maintainable Systems   \n",
              "2                                   Data Engineering Best Practices: Architect robust and cost-effective data solutions in the cloud era   \n",
              "3  Data Engineering with AWS - Second Edition: Acquire the skills to design and build AWS-based data transformation pipelines like a pro   \n",
              "4                                                              Data Pipelines Pocket Reference: Moving and Processing Data for Analytics   \n",
              "\n",
              "                                                                  Authors  \\\n",
              "0  Joe Reis, Matt Housley, Paperback, Audible Audiobook, Kindle, Audio CD   \n",
              "1                  Martin Kleppmann, Paperback, Audible Audiobook, Kindle   \n",
              "2                Richard J. Schiller, David Larochelle, Paperback, Kindle   \n",
              "3                                         Gareth Eagar, Paperback, Kindle   \n",
              "4                                       James Densmore, Paperback, Kindle   \n",
              "\n",
              "  Price              Rating  \n",
              "0   42.  4.7 out of 5 stars  \n",
              "1   41.  4.7 out of 5 stars  \n",
              "2   49.  5.0 out of 5 stars  \n",
              "3   41.  4.3 out of 5 stars  \n",
              "4   17.  4.5 out of 5 stars  "
            ],
            "text/html": [
              "\n",
              "  <div id=\"df-85846bf8-905a-49d2-9226-7e07b7bdf714\" class=\"colab-df-container\">\n",
              "    <div>\n",
              "<style scoped>\n",
              "    .dataframe tbody tr th:only-of-type {\n",
              "        vertical-align: middle;\n",
              "    }\n",
              "\n",
              "    .dataframe tbody tr th {\n",
              "        vertical-align: top;\n",
              "    }\n",
              "\n",
              "    .dataframe thead th {\n",
              "        text-align: right;\n",
              "    }\n",
              "</style>\n",
              "<table border=\"1\" class=\"dataframe\">\n",
              "  <thead>\n",
              "    <tr style=\"text-align: right;\">\n",
              "      <th></th>\n",
              "      <th>Title</th>\n",
              "      <th>Authors</th>\n",
              "      <th>Price</th>\n",
              "      <th>Rating</th>\n",
              "    </tr>\n",
              "  </thead>\n",
              "  <tbody>\n",
              "    <tr>\n",
              "      <th>0</th>\n",
              "      <td>Fundamentals of Data Engineering: Plan and Build Robust Data Systems</td>\n",
              "      <td>Joe Reis, Matt Housley, Paperback, Audible Audiobook, Kindle, Audio CD</td>\n",
              "      <td>42.</td>\n",
              "      <td>4.7 out of 5 stars</td>\n",
              "    </tr>\n",
              "    <tr>\n",
              "      <th>1</th>\n",
              "      <td>Designing Data-Intensive Applications: The Big Ideas Behind Reliable, Scalable, and Maintainable Systems</td>\n",
              "      <td>Martin Kleppmann, Paperback, Audible Audiobook, Kindle</td>\n",
              "      <td>41.</td>\n",
              "      <td>4.7 out of 5 stars</td>\n",
              "    </tr>\n",
              "    <tr>\n",
              "      <th>2</th>\n",
              "      <td>Data Engineering Best Practices: Architect robust and cost-effective data solutions in the cloud era</td>\n",
              "      <td>Richard J. Schiller, David Larochelle, Paperback, Kindle</td>\n",
              "      <td>49.</td>\n",
              "      <td>5.0 out of 5 stars</td>\n",
              "    </tr>\n",
              "    <tr>\n",
              "      <th>3</th>\n",
              "      <td>Data Engineering with AWS - Second Edition: Acquire the skills to design and build AWS-based data transformation pipelines like a pro</td>\n",
              "      <td>Gareth Eagar, Paperback, Kindle</td>\n",
              "      <td>41.</td>\n",
              "      <td>4.3 out of 5 stars</td>\n",
              "    </tr>\n",
              "    <tr>\n",
              "      <th>4</th>\n",
              "      <td>Data Pipelines Pocket Reference: Moving and Processing Data for Analytics</td>\n",
              "      <td>James Densmore, Paperback, Kindle</td>\n",
              "      <td>17.</td>\n",
              "      <td>4.5 out of 5 stars</td>\n",
              "    </tr>\n",
              "  </tbody>\n",
              "</table>\n",
              "</div>\n",
              "    <div class=\"colab-df-buttons\">\n",
              "\n",
              "  <div class=\"colab-df-container\">\n",
              "    <button class=\"colab-df-convert\" onclick=\"convertToInteractive('df-85846bf8-905a-49d2-9226-7e07b7bdf714')\"\n",
              "            title=\"Convert this dataframe to an interactive table.\"\n",
              "            style=\"display:none;\">\n",
              "\n",
              "  <svg xmlns=\"http://www.w3.org/2000/svg\" height=\"24px\" viewBox=\"0 -960 960 960\">\n",
              "    <path d=\"M120-120v-720h720v720H120Zm60-500h600v-160H180v160Zm220 220h160v-160H400v160Zm0 220h160v-160H400v160ZM180-400h160v-160H180v160Zm440 0h160v-160H620v160ZM180-180h160v-160H180v160Zm440 0h160v-160H620v160Z\"/>\n",
              "  </svg>\n",
              "    </button>\n",
              "\n",
              "  <style>\n",
              "    .colab-df-container {\n",
              "      display:flex;\n",
              "      gap: 12px;\n",
              "    }\n",
              "\n",
              "    .colab-df-convert {\n",
              "      background-color: #E8F0FE;\n",
              "      border: none;\n",
              "      border-radius: 50%;\n",
              "      cursor: pointer;\n",
              "      display: none;\n",
              "      fill: #1967D2;\n",
              "      height: 32px;\n",
              "      padding: 0 0 0 0;\n",
              "      width: 32px;\n",
              "    }\n",
              "\n",
              "    .colab-df-convert:hover {\n",
              "      background-color: #E2EBFA;\n",
              "      box-shadow: 0px 1px 2px rgba(60, 64, 67, 0.3), 0px 1px 3px 1px rgba(60, 64, 67, 0.15);\n",
              "      fill: #174EA6;\n",
              "    }\n",
              "\n",
              "    .colab-df-buttons div {\n",
              "      margin-bottom: 4px;\n",
              "    }\n",
              "\n",
              "    [theme=dark] .colab-df-convert {\n",
              "      background-color: #3B4455;\n",
              "      fill: #D2E3FC;\n",
              "    }\n",
              "\n",
              "    [theme=dark] .colab-df-convert:hover {\n",
              "      background-color: #434B5C;\n",
              "      box-shadow: 0px 1px 3px 1px rgba(0, 0, 0, 0.15);\n",
              "      filter: drop-shadow(0px 1px 2px rgba(0, 0, 0, 0.3));\n",
              "      fill: #FFFFFF;\n",
              "    }\n",
              "  </style>\n",
              "\n",
              "    <script>\n",
              "      const buttonEl =\n",
              "        document.querySelector('#df-85846bf8-905a-49d2-9226-7e07b7bdf714 button.colab-df-convert');\n",
              "      buttonEl.style.display =\n",
              "        google.colab.kernel.accessAllowed ? 'block' : 'none';\n",
              "\n",
              "      async function convertToInteractive(key) {\n",
              "        const element = document.querySelector('#df-85846bf8-905a-49d2-9226-7e07b7bdf714');\n",
              "        const dataTable =\n",
              "          await google.colab.kernel.invokeFunction('convertToInteractive',\n",
              "                                                    [key], {});\n",
              "        if (!dataTable) return;\n",
              "\n",
              "        const docLinkHtml = 'Like what you see? Visit the ' +\n",
              "          '<a target=\"_blank\" href=https://colab.research.google.com/notebooks/data_table.ipynb>data table notebook</a>'\n",
              "          + ' to learn more about interactive tables.';\n",
              "        element.innerHTML = '';\n",
              "        dataTable['output_type'] = 'display_data';\n",
              "        await google.colab.output.renderOutput(dataTable, element);\n",
              "        const docLink = document.createElement('div');\n",
              "        docLink.innerHTML = docLinkHtml;\n",
              "        element.appendChild(docLink);\n",
              "      }\n",
              "    </script>\n",
              "  </div>\n",
              "\n",
              "\n",
              "<div id=\"df-55f3884a-b151-473d-9c4d-e56ae9eca47d\">\n",
              "  <button class=\"colab-df-quickchart\" onclick=\"quickchart('df-55f3884a-b151-473d-9c4d-e56ae9eca47d')\"\n",
              "            title=\"Suggest charts\"\n",
              "            style=\"display:none;\">\n",
              "\n",
              "<svg xmlns=\"http://www.w3.org/2000/svg\" height=\"24px\"viewBox=\"0 0 24 24\"\n",
              "     width=\"24px\">\n",
              "    <g>\n",
              "        <path d=\"M19 3H5c-1.1 0-2 .9-2 2v14c0 1.1.9 2 2 2h14c1.1 0 2-.9 2-2V5c0-1.1-.9-2-2-2zM9 17H7v-7h2v7zm4 0h-2V7h2v10zm4 0h-2v-4h2v4z\"/>\n",
              "    </g>\n",
              "</svg>\n",
              "  </button>\n",
              "\n",
              "<style>\n",
              "  .colab-df-quickchart {\n",
              "      --bg-color: #E8F0FE;\n",
              "      --fill-color: #1967D2;\n",
              "      --hover-bg-color: #E2EBFA;\n",
              "      --hover-fill-color: #174EA6;\n",
              "      --disabled-fill-color: #AAA;\n",
              "      --disabled-bg-color: #DDD;\n",
              "  }\n",
              "\n",
              "  [theme=dark] .colab-df-quickchart {\n",
              "      --bg-color: #3B4455;\n",
              "      --fill-color: #D2E3FC;\n",
              "      --hover-bg-color: #434B5C;\n",
              "      --hover-fill-color: #FFFFFF;\n",
              "      --disabled-bg-color: #3B4455;\n",
              "      --disabled-fill-color: #666;\n",
              "  }\n",
              "\n",
              "  .colab-df-quickchart {\n",
              "    background-color: var(--bg-color);\n",
              "    border: none;\n",
              "    border-radius: 50%;\n",
              "    cursor: pointer;\n",
              "    display: none;\n",
              "    fill: var(--fill-color);\n",
              "    height: 32px;\n",
              "    padding: 0;\n",
              "    width: 32px;\n",
              "  }\n",
              "\n",
              "  .colab-df-quickchart:hover {\n",
              "    background-color: var(--hover-bg-color);\n",
              "    box-shadow: 0 1px 2px rgba(60, 64, 67, 0.3), 0 1px 3px 1px rgba(60, 64, 67, 0.15);\n",
              "    fill: var(--button-hover-fill-color);\n",
              "  }\n",
              "\n",
              "  .colab-df-quickchart-complete:disabled,\n",
              "  .colab-df-quickchart-complete:disabled:hover {\n",
              "    background-color: var(--disabled-bg-color);\n",
              "    fill: var(--disabled-fill-color);\n",
              "    box-shadow: none;\n",
              "  }\n",
              "\n",
              "  .colab-df-spinner {\n",
              "    border: 2px solid var(--fill-color);\n",
              "    border-color: transparent;\n",
              "    border-bottom-color: var(--fill-color);\n",
              "    animation:\n",
              "      spin 1s steps(1) infinite;\n",
              "  }\n",
              "\n",
              "  @keyframes spin {\n",
              "    0% {\n",
              "      border-color: transparent;\n",
              "      border-bottom-color: var(--fill-color);\n",
              "      border-left-color: var(--fill-color);\n",
              "    }\n",
              "    20% {\n",
              "      border-color: transparent;\n",
              "      border-left-color: var(--fill-color);\n",
              "      border-top-color: var(--fill-color);\n",
              "    }\n",
              "    30% {\n",
              "      border-color: transparent;\n",
              "      border-left-color: var(--fill-color);\n",
              "      border-top-color: var(--fill-color);\n",
              "      border-right-color: var(--fill-color);\n",
              "    }\n",
              "    40% {\n",
              "      border-color: transparent;\n",
              "      border-right-color: var(--fill-color);\n",
              "      border-top-color: var(--fill-color);\n",
              "    }\n",
              "    60% {\n",
              "      border-color: transparent;\n",
              "      border-right-color: var(--fill-color);\n",
              "    }\n",
              "    80% {\n",
              "      border-color: transparent;\n",
              "      border-right-color: var(--fill-color);\n",
              "      border-bottom-color: var(--fill-color);\n",
              "    }\n",
              "    90% {\n",
              "      border-color: transparent;\n",
              "      border-bottom-color: var(--fill-color);\n",
              "    }\n",
              "  }\n",
              "</style>\n",
              "\n",
              "  <script>\n",
              "    async function quickchart(key) {\n",
              "      const quickchartButtonEl =\n",
              "        document.querySelector('#' + key + ' button');\n",
              "      quickchartButtonEl.disabled = true;  // To prevent multiple clicks.\n",
              "      quickchartButtonEl.classList.add('colab-df-spinner');\n",
              "      try {\n",
              "        const charts = await google.colab.kernel.invokeFunction(\n",
              "            'suggestCharts', [key], {});\n",
              "      } catch (error) {\n",
              "        console.error('Error during call to suggestCharts:', error);\n",
              "      }\n",
              "      quickchartButtonEl.classList.remove('colab-df-spinner');\n",
              "      quickchartButtonEl.classList.add('colab-df-quickchart-complete');\n",
              "    }\n",
              "    (() => {\n",
              "      let quickchartButtonEl =\n",
              "        document.querySelector('#df-55f3884a-b151-473d-9c4d-e56ae9eca47d button');\n",
              "      quickchartButtonEl.style.display =\n",
              "        google.colab.kernel.accessAllowed ? 'block' : 'none';\n",
              "    })();\n",
              "  </script>\n",
              "</div>\n",
              "\n",
              "    </div>\n",
              "  </div>\n"
            ],
            "application/vnd.google.colaboratory.intrinsic+json": {
              "type": "dataframe",
              "variable_name": "df",
              "summary": "{\n  \"name\": \"df\",\n  \"rows\": 46,\n  \"fields\": [\n    {\n      \"column\": \"Title\",\n      \"properties\": {\n        \"dtype\": \"string\",\n        \"num_unique_values\": 46,\n        \"samples\": [\n          \"Data Stewardship: An Actionable Guide to Effective Data Management and Data Governance\",\n          \"Data Engineering 101\",\n          \"Data Engineering with AWS\"\n        ],\n        \"semantic_type\": \"\",\n        \"description\": \"\"\n      }\n    },\n    {\n      \"column\": \"Authors\",\n      \"properties\": {\n        \"dtype\": \"string\",\n        \"num_unique_values\": 41,\n        \"samples\": [\n          \"Hardcover, Kindle, Paperback\",\n          \"Dr. Mukesh Saini, Paperback, Kindle\",\n          \"Roberto Zagni, Paperback, Kindle\"\n        ],\n        \"semantic_type\": \"\",\n        \"description\": \"\"\n      }\n    },\n    {\n      \"column\": \"Price\",\n      \"properties\": {\n        \"dtype\": \"string\",\n        \"num_unique_values\": 28,\n        \"samples\": [\n          \"32.\",\n          \"12.\",\n          \"45.\"\n        ],\n        \"semantic_type\": \"\",\n        \"description\": \"\"\n      }\n    },\n    {\n      \"column\": \"Rating\",\n      \"properties\": {\n        \"dtype\": \"category\",\n        \"num_unique_values\": 13,\n        \"samples\": [\n          \"4.9 out of 5 stars\",\n          \"4.2 out of 5 stars\",\n          \"4.7 out of 5 stars\"\n        ],\n        \"semantic_type\": \"\",\n        \"description\": \"\"\n      }\n    }\n  ]\n}"
            }
          },
          "metadata": {},
          "execution_count": 95
        }
      ]
    },
    {
      "cell_type": "markdown",
      "source": [
        "Now we have the data into the dataframe. However, the Authors column has unnecessary information. Have to figure out how to get rid of that information."
      ],
      "metadata": {
        "id": "Hc-6g2z75T-8"
      }
    },
    {
      "cell_type": "code",
      "source": [
        "df.shape"
      ],
      "metadata": {
        "colab": {
          "base_uri": "https://localhost:8080/"
        },
        "id": "0i3vE40i92tV",
        "outputId": "0a15b76c-ca92-46d2-bfda-9c9a4d715e1c"
      },
      "execution_count": 97,
      "outputs": [
        {
          "output_type": "execute_result",
          "data": {
            "text/plain": [
              "(46, 4)"
            ]
          },
          "metadata": {},
          "execution_count": 97
        }
      ]
    },
    {
      "cell_type": "code",
      "source": [],
      "metadata": {
        "id": "Xa3kJXcy93Va"
      },
      "execution_count": null,
      "outputs": []
    }
  ]
}